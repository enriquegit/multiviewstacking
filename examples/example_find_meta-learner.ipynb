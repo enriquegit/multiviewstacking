{
 "cells": [
  {
   "cell_type": "markdown",
   "id": "17aed177",
   "metadata": {},
   "source": [
    "# Finding the best meta-learner.\n",
    "\n",
    "This document shows how to find the best meta-learner by iterating over multiple models."
   ]
  },
  {
   "cell_type": "markdown",
   "id": "b13a6924",
   "metadata": {},
   "source": [
    "### Load the dataset.\n",
    "\n",
    "First, let's load the dataset into a pandas data frame and display the first rows.\n",
    "The feature names have a prefix of **v1_*** or **v2_***.* The features prefixed with v1_ are mel frequency cepstral coefficients extracted from audio signals. Features prefixed with v2_ are summary statistics extracted from accelerometer signals. Note that column names can be anything. But to make things easier, in this case a prefix was added so we can get the corresponding views' column indices.\n"
   ]
  },
  {
   "cell_type": "code",
   "execution_count": null,
   "id": "e2a0f41c",
   "metadata": {},
   "outputs": [],
   "source": [
    "import pandas as pd\n",
    "import numpy as np\n",
    "from multiviewstacking import load_example_data\n",
    "\n",
    "(X_train,y_train,X_test,y_test,ind_v1,ind_v2,le) = load_example_data()\n",
    "\n",
    "X_train.head()"
   ]
  },
  {
   "cell_type": "markdown",
   "id": "28abe799",
   "metadata": {},
   "source": [
    "### Defining the first-level-learners\n",
    "\n",
    "Let's define the first level learners for each of the views and the meta-learner. The `multiviewstacking` library supports most of `scikit-learn` classifiers. A `MultiViewStacking` model is not limited to a single type of model but supports heterogenous types of models. For example, if you know that a KNN classifier is more suitable for audio classification and Gaussian Naive Bayes is better for the accelerometer view, you can specify a different model for each view."
   ]
  },
  {
   "cell_type": "code",
   "execution_count": null,
   "id": "d4a26fb3",
   "metadata": {},
   "outputs": [],
   "source": [
    "from multiviewstacking import MultiViewStacking\n",
    "from sklearn.neighbors import KNeighborsClassifier\n",
    "from sklearn.naive_bayes import GaussianNB\n",
    "from sklearn.ensemble import RandomForestClassifier\n",
    "from sklearn.svm import SVC\n",
    "\n",
    "# Define the first-level-learner for the audio view.\n",
    "# In this case, a KNN classifier with k=3. \n",
    "m_v1 = KNeighborsClassifier(n_neighbors=3)\n",
    "\n",
    "# Define the first-level-learner for the accelerometer view.\n",
    "# In this case, a Naive Bayes classifier.\n",
    "m_v2 = GaussianNB()"
   ]
  },
  {
   "cell_type": "markdown",
   "id": "4acff79a",
   "metadata": {},
   "source": [
    "### Define the list of possible meta-learners\n",
    "\n",
    "We will store the set of possible meta-learners as a list of tuples. Each tuple stores the name and the meta-learner itself."
   ]
  },
  {
   "cell_type": "code",
   "execution_count": null,
   "id": "28b9b06d",
   "metadata": {},
   "outputs": [],
   "source": [
    "list_meta_learners = [\n",
    "    (\"RandomForest\", RandomForestClassifier(n_estimators=50, random_state=123)),\n",
    "    (\"Naive Bayes\", GaussianNB()),\n",
    "    (\"SVM\", SVC(probability=True,random_state=123))\n",
    "]"
   ]
  },
  {
   "cell_type": "markdown",
   "id": "14a38ac6",
   "metadata": {},
   "source": [
    "### Iterate through the list of meta-learners to find the best one\n",
    "\n"
   ]
  },
  {
   "cell_type": "code",
   "execution_count": null,
   "id": "af32018d",
   "metadata": {},
   "outputs": [],
   "source": [
    "for m in list_meta_learners:\n",
    "    \n",
    "    model = MultiViewStacking(views_indices = [ind_v1, ind_v2],\n",
    "                      first_level_learners = [m_v1, m_v2],\n",
    "                      meta_learner = m[1],\n",
    "                      k = 10,\n",
    "                      random_state = 100)\n",
    "    \n",
    "    model.fit(X_train, y_train)\n",
    "    predictions = model.predict(X_test)\n",
    "    accuracy = np.sum(y_test == predictions) / len(y_test)\n",
    "    print(m[0] + \" accuracy \" + str(accuracy))"
   ]
  }
 ],
 "metadata": {
  "kernelspec": {
   "display_name": "Python 3 (ipykernel)",
   "language": "python",
   "name": "python3"
  },
  "language_info": {
   "codemirror_mode": {
    "name": "ipython",
    "version": 3
   },
   "file_extension": ".py",
   "mimetype": "text/x-python",
   "name": "python",
   "nbconvert_exporter": "python",
   "pygments_lexer": "ipython3",
   "version": "3.11.5"
  }
 },
 "nbformat": 4,
 "nbformat_minor": 5
}
