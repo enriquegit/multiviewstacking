{
 "cells": [
  {
   "cell_type": "markdown",
   "id": "17aed177",
   "metadata": {},
   "source": [
    "# Example of using a custom learner.\n",
    "\n",
    "This document shows how to define a custom learner for classification. In this example, the meta-learner will be the custom learner."
   ]
  },
  {
   "cell_type": "markdown",
   "id": "b13a6924",
   "metadata": {},
   "source": [
    "### Load the dataset.\n",
    "\n",
    "First, let's load the dataset into a pandas data frame and display the first rows.\n",
    "The feature names have a prefix of **v1_*** or **v2_***.* The features prefixed with v1_ are mel frequency cepstral coefficients extracted from audio signals. Features prefixed with v2_ are summary statistics extracted from accelerometer signals. Note that column names can be anything. But to make things easier, in this case a prefix was added so we can get the corresponding views' column indices.\n"
   ]
  },
  {
   "cell_type": "code",
   "execution_count": null,
   "id": "e2a0f41c",
   "metadata": {},
   "outputs": [],
   "source": [
    "import pandas as pd\n",
    "import numpy as np\n",
    "from multiviewstacking import load_example_data\n",
    "\n",
    "(X_train,y_train,X_test,y_test,ind_v1,ind_v2,le) = load_example_data()\n",
    "\n",
    "X_train.head()"
   ]
  },
  {
   "cell_type": "markdown",
   "id": "6f53b6bb",
   "metadata": {},
   "source": [
    "### Defining the custom learner\n",
    "\n",
    "A custom learner needs to implement three methods: `fit()`, `predict()`, and `predict_proba()`. For demonstration purposes we will not implement a learner from scratch but will use a RandomForest behind the scenes. The following class initializes a RandomForest classifier. Then, the `fit()` function passes the parameters to the `fit()` function of the RandomForest and returns this class (`self`). The `predict()` and `predict_proba()` functions call the corresponding functions of the RandomForest."
   ]
  },
  {
   "cell_type": "code",
   "execution_count": null,
   "id": "f6713b6e",
   "metadata": {},
   "outputs": [],
   "source": [
    "from sklearn.ensemble import RandomForestClassifier\n",
    "\n",
    "class MyLearner():\n",
    "    \n",
    "    def __init__(self):\n",
    "        self.learner = RandomForestClassifier(random_state=123)\n",
    "    \n",
    "    def fit(self, X, y):\n",
    "        self.learner.fit(X, y)\n",
    "        return self\n",
    "    \n",
    "    def predict(self, X):\n",
    "        return self.learner.predict(X)\n",
    "    \n",
    "    def predict_proba(self, X):\n",
    "        return self.learner.predict_proba(X)    "
   ]
  },
  {
   "cell_type": "markdown",
   "id": "28abe799",
   "metadata": {},
   "source": [
    "### Defining the first-level-learners\n",
    "\n",
    "Let's define the first level learners for each of the views and the meta-learner. The `multiviewstacking` library supports most of `scikit-learn` classifiers. A `MultiViewStacking` model is not limited to a single type of model but supports heterogenous types of models. For example, if you know that a KNN classifier is more suitable for audio classification and Gaussian Naive Bayes is better for the accelerometer view, you can specify a different model for each view."
   ]
  },
  {
   "cell_type": "code",
   "execution_count": null,
   "id": "d4a26fb3",
   "metadata": {},
   "outputs": [],
   "source": [
    "from sklearn.neighbors import KNeighborsClassifier\n",
    "from sklearn.naive_bayes import GaussianNB\n",
    "\n",
    "# Define the first-level-learner for the audio view.\n",
    "# In this case, a KNN classifier with k=3. \n",
    "m_v1 = KNeighborsClassifier(n_neighbors=3)\n",
    "\n",
    "# Define the first-level-learner for the accelerometer view.\n",
    "# In this case, a Naive Bayes classifier.\n",
    "m_v2 = GaussianNB()"
   ]
  },
  {
   "cell_type": "markdown",
   "id": "a7178319",
   "metadata": {},
   "source": [
    "### Defining the custom meta-learner\n",
    "\n",
    "Now we will instantiate our custom learner."
   ]
  },
  {
   "cell_type": "code",
   "execution_count": null,
   "id": "872eb0b1",
   "metadata": {},
   "outputs": [],
   "source": [
    "m_meta = MyLearner()"
   ]
  },
  {
   "cell_type": "markdown",
   "id": "14a38ac6",
   "metadata": {},
   "source": [
    "### Create the MultiViewStacking classifier\n",
    "\n",
    "Now we are ready to create our `MultiViewStacking` classifier. We first pass the `views_indices` parameter as a list of lists. The first list is the list of indices of the first view (audio), the second list is the list of indices of the second view (accelerometer). Then, we pass a list of `first_level_learners`. **Note that the order of the views for all parameters must be the same.** That is, if in `view_indices` you pass the indices of some view $A$ and view $B$ then in the `first_level_learners` you must pass a list with the corresponding models for view $A$ and view $B$ in the same order.\n",
    "\n",
    "Then, we specify the `meta_learner` and `k`. The parameter `k` specifies the number of folds in the internal cross-validation of the Multi-View Stacking algorithm. See [here](https://enriquegit.github.io/behavior-free/ensemble.html#stacked-generalization) for details of the algorithm.\n",
    "\n",
    "Finally we set the `random_state` parameter for reproducibility. The `random_state` value is passed to the internal cross-validation procedure that splits the data into folds. This parameter is optional with a default value of `123`."
   ]
  },
  {
   "cell_type": "code",
   "execution_count": null,
   "id": "f8fb044a",
   "metadata": {},
   "outputs": [],
   "source": [
    "from multiviewstacking import MultiViewStacking\n",
    "\n",
    "model = MultiViewStacking(views_indices = [ind_v1, ind_v2],\n",
    "                      first_level_learners = [m_v1, m_v2],\n",
    "                      meta_learner = m_meta,\n",
    "                      k = 10,\n",
    "                      random_state = 100)"
   ]
  },
  {
   "cell_type": "markdown",
   "id": "acb642c3",
   "metadata": {},
   "source": [
    "### Train the model\n",
    "\n",
    "Once the model has been created, we can proceed to train it."
   ]
  },
  {
   "cell_type": "code",
   "execution_count": null,
   "id": "44270a34",
   "metadata": {},
   "outputs": [],
   "source": [
    "# Now it's time to fit the model with the training data.\n",
    "model.fit(X_train, y_train)"
   ]
  },
  {
   "cell_type": "markdown",
   "id": "0374e109",
   "metadata": {},
   "source": [
    "### Test the model\n",
    "\n",
    "Now you can test your model by making predictions on the test set and computing the accuracy."
   ]
  },
  {
   "cell_type": "code",
   "execution_count": null,
   "id": "3d61dd06",
   "metadata": {},
   "outputs": [],
   "source": [
    "predictions = model.predict(X_test)\n",
    "\n",
    "# Print accuracy.\n",
    "print(np.sum(y_test == predictions) / len(y_test))"
   ]
  },
  {
   "cell_type": "markdown",
   "id": "429f3504",
   "metadata": {},
   "source": [
    "### Convert predictions to original strings\n",
    "\n",
    "You can use the `LabelEncoder` to convert the integer predictions back to strings with its method `inverse_transform()`."
   ]
  },
  {
   "cell_type": "code",
   "execution_count": null,
   "id": "4b47f926",
   "metadata": {},
   "outputs": [],
   "source": [
    "from sklearn.metrics import confusion_matrix, ConfusionMatrixDisplay\n",
    "import matplotlib.pyplot as plt\n",
    "\n",
    "str_predictions = le.inverse_transform(predictions)\n",
    "str_groundtruth = le.inverse_transform(y_test)\n",
    "\n",
    "cm = confusion_matrix(str_groundtruth, str_predictions)\n",
    "\n",
    "disp = ConfusionMatrixDisplay(confusion_matrix=cm, \n",
    "                              display_labels=np.unique(str_groundtruth))\n",
    "\n",
    "disp.plot(xticks_rotation = 'vertical', cmap=plt.cm.Blues)\n",
    "plt.title('Confusion Matrix')\n",
    "plt.show()"
   ]
  },
  {
   "cell_type": "code",
   "execution_count": null,
   "id": "5c07fb9f-86c2-4a48-9613-7f8e67e55528",
   "metadata": {},
   "outputs": [],
   "source": []
  }
 ],
 "metadata": {
  "kernelspec": {
   "display_name": "Python 3 (ipykernel)",
   "language": "python",
   "name": "python3"
  },
  "language_info": {
   "codemirror_mode": {
    "name": "ipython",
    "version": 3
   },
   "file_extension": ".py",
   "mimetype": "text/x-python",
   "name": "python",
   "nbconvert_exporter": "python",
   "pygments_lexer": "ipython3",
   "version": "3.11.5"
  }
 },
 "nbformat": 4,
 "nbformat_minor": 5
}
