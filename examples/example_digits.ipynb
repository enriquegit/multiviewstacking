{
 "cells": [
  {
   "cell_type": "markdown",
   "id": "17aed177",
   "metadata": {},
   "source": [
    "# Use-case: Classification of digits with 6 views.\n",
    "\n",
    "This document shows how to use the `multiviestacking` library on a dataset with $6$ views."
   ]
  },
  {
   "cell_type": "markdown",
   "id": "b13a6924",
   "metadata": {},
   "source": [
    "### Load the dataset.\n",
    "\n",
    "First, let's load the dataset into a pandas data frame and display the first rows.\n",
    "The first column is the **class** and the remaining ones are the features. The feature names have a prefix of **v1_***, **v2_***,...,**v6_***.* Each view is described below.\n",
    "\n",
    "1. 76 Fourier coefficients of the character shapes; \n",
    "2. 216 profile correlations; \n",
    "3. 64 Karhunen-Love coefficients; \n",
    "4. 240 pixel averages in 2 x 3 windows; \n",
    "5. 47 Zernike moments; \n",
    "6. 6 morphological features.\n"
   ]
  },
  {
   "cell_type": "code",
   "execution_count": null,
   "id": "e2a0f41c",
   "metadata": {},
   "outputs": [],
   "source": [
    "import pandas as pd\n",
    "import numpy as np\n",
    "\n",
    "# Read file.\n",
    "df = pd.read_csv('multiview-digits.csv')\n",
    "\n",
    "# Display the first rows of the data.\n",
    "df.head()"
   ]
  },
  {
   "cell_type": "code",
   "execution_count": null,
   "id": "0f4ace28",
   "metadata": {},
   "outputs": [],
   "source": [
    "df.shape"
   ]
  },
  {
   "cell_type": "markdown",
   "id": "6bdda800",
   "metadata": {},
   "source": [
    "Now let's store the class in the variable `y` and the features in the variable `X`. We also store the column names so later we can get the column indices."
   ]
  },
  {
   "cell_type": "code",
   "execution_count": null,
   "id": "388d0a8b",
   "metadata": {},
   "outputs": [],
   "source": [
    "y = df[\"class\"]\n",
    "X = df.drop([\"class\"], axis = 1)\n",
    "\n",
    "# Store column names.\n",
    "colnames = list(X.columns)"
   ]
  },
  {
   "cell_type": "markdown",
   "id": "4dd8f210",
   "metadata": {},
   "source": [
    "### Split the dataset\n",
    "\n",
    "Now we split the dataset into train and test sets."
   ]
  },
  {
   "cell_type": "code",
   "execution_count": null,
   "id": "ee7540a0",
   "metadata": {},
   "outputs": [],
   "source": [
    "from sklearn.model_selection import train_test_split\n",
    "\n",
    "# Split into train, and test sets.\n",
    "X_train, X_test, y_train, y_test = train_test_split(X, y,\n",
    "                                                    train_size = 0.5,\n",
    "                                                    stratify = y,\n",
    "                                                    random_state = 123)"
   ]
  },
  {
   "cell_type": "markdown",
   "id": "c5f6e98b",
   "metadata": {},
   "source": [
    "### Get column indices\n",
    "\n",
    "The `MultiViewStacking` object expects the features of each view to be passed as indices. Either as ranges as a tuple or the complete list of indices. In this case we will pass the complete list of indices. Since we stored the column names, we can extract their indices by searching for those that start with \"v1_\", \"v2_\", etc."
   ]
  },
  {
   "cell_type": "code",
   "execution_count": null,
   "id": "d7b7c772",
   "metadata": {},
   "outputs": [],
   "source": [
    "# Get column indices for each view.\n",
    "ind_v1 = [colnames.index(x) for x in colnames if \"v1_\" in x]\n",
    "ind_v2 = [colnames.index(x) for x in colnames if \"v2_\" in x]\n",
    "ind_v3 = [colnames.index(x) for x in colnames if \"v3_\" in x]\n",
    "ind_v4 = [colnames.index(x) for x in colnames if \"v4_\" in x]\n",
    "ind_v5 = [colnames.index(x) for x in colnames if \"v5_\" in x]\n",
    "ind_v6 = [colnames.index(x) for x in colnames if \"v6_\" in x]\n",
    "\n",
    "print(ind_v1)"
   ]
  },
  {
   "cell_type": "markdown",
   "id": "f7e6f740",
   "metadata": {},
   "source": [
    "### Visualize the data\n",
    "\n",
    "The dimension of the data will be reduced to 2 so it can be plotted. Multidimensional Scaling (MDS) is used here to reduce the dimension."
   ]
  },
  {
   "cell_type": "code",
   "execution_count": null,
   "id": "da76bda8",
   "metadata": {},
   "outputs": [],
   "source": [
    "import matplotlib.pyplot as plt\n",
    "from sklearn.manifold import MDS\n",
    "\n",
    "# Select first n data points, so the procedure runs faster.\n",
    "n = 500\n",
    "X_sample = X_train[:n]\n",
    "y_sample = y_train[:n]\n",
    "\n",
    "mds = MDS(n_components = 2, random_state = 10)\n",
    "\n",
    "# Plot view.\n",
    "selected_view = ind_v1\n",
    "X_reduced = mds.fit_transform(X_sample.iloc[:, selected_view])\n",
    "plt.figure(figsize=(7, 5))\n",
    "plt.scatter(X_reduced[:, 0], X_reduced[:, 1], c=y_sample, cmap=plt.cm.get_cmap(\"jet\", 10))\n",
    "plt.colorbar(label='Class', ticks=range(10))\n",
    "plt.title(\"MDS View 1\")\n",
    "plt.xlabel(\"Dimension 1\")\n",
    "plt.ylabel(\"Dimension 2\")\n",
    "plt.savefig(\"mds_1.pdf\", format=\"pdf\", bbox_inches=\"tight\")\n",
    "plt.show()\n",
    "\n",
    "# Plot view.\n",
    "selected_view = ind_v2\n",
    "X_reduced = mds.fit_transform(X_sample.iloc[:, selected_view])\n",
    "plt.figure(figsize=(7, 5))\n",
    "plt.scatter(X_reduced[:, 0], X_reduced[:, 1], c=y_sample, cmap=plt.cm.get_cmap(\"jet\", 10))\n",
    "plt.colorbar(label='Class', ticks=range(10))\n",
    "plt.title(\"MDS View 2\")\n",
    "plt.xlabel(\"Dimension 1\")\n",
    "plt.ylabel(\"Dimension 2\")\n",
    "plt.savefig(\"mds_2.pdf\", format=\"pdf\", bbox_inches=\"tight\")\n",
    "plt.show()\n",
    "\n",
    "# Plot view.\n",
    "mds = MDS(n_components = 2, random_state = 10)\n",
    "selected_view = ind_v3\n",
    "X_reduced = mds.fit_transform(X_sample.iloc[:, selected_view])\n",
    "plt.figure(figsize=(7, 5))\n",
    "plt.scatter(X_reduced[:, 0], X_reduced[:, 1], c=y_sample, cmap=plt.cm.get_cmap(\"jet\", 10))\n",
    "plt.colorbar(label='Class', ticks=range(10))\n",
    "plt.title(\"MDS View 3\")\n",
    "plt.xlabel(\"Dimension 1\")\n",
    "plt.ylabel(\"Dimension 2\")\n",
    "plt.savefig(\"mds_3.pdf\", format=\"pdf\", bbox_inches=\"tight\")\n",
    "plt.show()\n",
    "\n",
    "# Plot view.\n",
    "mds = MDS(n_components = 2, random_state = 10)\n",
    "selected_view = ind_v4\n",
    "X_reduced = mds.fit_transform(X_sample.iloc[:, selected_view])\n",
    "plt.figure(figsize=(7, 5))\n",
    "plt.scatter(X_reduced[:, 0], X_reduced[:, 1], c=y_sample, cmap=plt.cm.get_cmap(\"jet\", 10))\n",
    "plt.colorbar(label='Class', ticks=range(10))\n",
    "plt.title(\"MDS View 4\")\n",
    "plt.xlabel(\"Dimension 1\")\n",
    "plt.ylabel(\"Dimension 2\")\n",
    "plt.savefig(\"mds_4.pdf\", format=\"pdf\", bbox_inches=\"tight\")\n",
    "plt.show()\n",
    "\n",
    "# Plot view.\n",
    "selected_view = ind_v5\n",
    "X_reduced = mds.fit_transform(X_sample.iloc[:, selected_view])\n",
    "plt.figure(figsize=(7, 5))\n",
    "plt.scatter(X_reduced[:, 0], X_reduced[:, 1], c=y_sample, cmap=plt.cm.get_cmap(\"jet\", 10))\n",
    "plt.colorbar(label='Class', ticks=range(10))\n",
    "plt.title(\"MDS View 5\")\n",
    "plt.xlabel(\"Dimension 1\")\n",
    "plt.ylabel(\"Dimension 2\")\n",
    "plt.savefig(\"mds_5.pdf\", format=\"pdf\", bbox_inches=\"tight\")\n",
    "plt.show()\n",
    "\n",
    "# Plot view.\n",
    "selected_view = ind_v6\n",
    "X_reduced = mds.fit_transform(X_sample.iloc[:, selected_view])\n",
    "plt.figure(figsize=(7, 5))\n",
    "plt.scatter(X_reduced[:, 0], X_reduced[:, 1], c=y_sample, cmap=plt.cm.get_cmap(\"jet\", 10))\n",
    "plt.colorbar(label='Class', ticks=range(10))\n",
    "plt.title(\"MDS View 6\")\n",
    "plt.xlabel(\"Dimension 1\")\n",
    "plt.ylabel(\"Dimension 2\")\n",
    "plt.savefig(\"mds_6.pdf\", format=\"pdf\", bbox_inches=\"tight\")\n",
    "plt.show()"
   ]
  },
  {
   "cell_type": "markdown",
   "id": "28abe799",
   "metadata": {},
   "source": [
    "### Defining the first-level-learners and meta-learner\n",
    "\n",
    "Let's define the first level learners for each of the views and the meta-learner. The `multiviewstacking` library supports most of `scikit-learn` classifiers. A `MultiViewStacking` model is not limited to a single type of model but supports heterogenous types of models."
   ]
  },
  {
   "cell_type": "code",
   "execution_count": null,
   "id": "d4a26fb3",
   "metadata": {},
   "outputs": [],
   "source": [
    "from sklearn.ensemble import RandomForestClassifier\n",
    "\n",
    "m_v1 = RandomForestClassifier(n_estimators=50, random_state=123)\n",
    "m_v2 = RandomForestClassifier(n_estimators=50, random_state=123)\n",
    "m_v3 = RandomForestClassifier(n_estimators=50, random_state=123)\n",
    "m_v4 = RandomForestClassifier(n_estimators=50, random_state=123)\n",
    "m_v5 = RandomForestClassifier(n_estimators=50, random_state=123)\n",
    "m_v6 = RandomForestClassifier(n_estimators=50, random_state=123)\n",
    "\n",
    "m_meta = RandomForestClassifier(n_estimators=50, random_state=123)"
   ]
  },
  {
   "cell_type": "markdown",
   "id": "14a38ac6",
   "metadata": {},
   "source": [
    "### Create the MultiViewStacking classifier\n",
    "\n",
    "Now we are ready to create our `MultiViewStacking` classifier. We first pass the `views_indices` parameter as a list of lists."
   ]
  },
  {
   "cell_type": "code",
   "execution_count": null,
   "id": "f8fb044a",
   "metadata": {},
   "outputs": [],
   "source": [
    "from multiviewstacking import MultiViewStacking\n",
    "\n",
    "model = MultiViewStacking(views_indices = [ind_v1, ind_v2, ind_v3, ind_v4, ind_v5, ind_v6],\n",
    "                      first_level_learners = [m_v1, m_v2, m_v3, m_v4, m_v5, m_v6],\n",
    "                      meta_learner = m_meta,\n",
    "                      k = 10,\n",
    "                      random_state = 100)"
   ]
  },
  {
   "cell_type": "markdown",
   "id": "acb642c3",
   "metadata": {},
   "source": [
    "### Train the model\n",
    "\n",
    "Once the model has been created, we can proceed to train it."
   ]
  },
  {
   "cell_type": "code",
   "execution_count": null,
   "id": "44270a34",
   "metadata": {},
   "outputs": [],
   "source": [
    "# Now it's time to fit the model with the training data.\n",
    "model.fit(X_train, y_train)"
   ]
  },
  {
   "cell_type": "markdown",
   "id": "0374e109",
   "metadata": {},
   "source": [
    "### Test the model\n",
    "\n",
    "Now you can test your model by making predictions on the test set and computing the accuracy."
   ]
  },
  {
   "cell_type": "code",
   "execution_count": null,
   "id": "3d61dd06",
   "metadata": {},
   "outputs": [],
   "source": [
    "predictions = model.predict(X_test)\n",
    "\n",
    "# Print accuracy.\n",
    "print(np.sum(y_test == predictions) / len(y_test))"
   ]
  },
  {
   "cell_type": "code",
   "execution_count": null,
   "id": "e3ff1090",
   "metadata": {},
   "outputs": [],
   "source": [
    "# Confusion  matrix multi-view stacking.\n",
    "from sklearn.metrics import confusion_matrix, ConfusionMatrixDisplay\n",
    "str_predictions = predictions\n",
    "str_groundtruth = y_test\n",
    "cm = confusion_matrix(str_groundtruth, str_predictions)\n",
    "disp = ConfusionMatrixDisplay(confusion_matrix=cm, \n",
    "                              display_labels=np.unique(str_groundtruth))\n",
    "disp.plot(xticks_rotation = 'vertical', cmap=plt.cm.Blues)\n",
    "plt.title('Confusion Matrix Multi-view Stacking')\n",
    "plt.savefig(\"cm_0.pdf\", format=\"pdf\", bbox_inches=\"tight\")\n",
    "plt.show()"
   ]
  },
  {
   "cell_type": "markdown",
   "id": "6a647cc4",
   "metadata": {},
   "source": [
    "### Testing the first-level-learners individually\n",
    "\n",
    "The fitted `MultiViewStacking` model has several attributes including `fitted_first_level_learners_`. You can use this to test the performance of the individual models."
   ]
  },
  {
   "cell_type": "code",
   "execution_count": null,
   "id": "e77d0ffd",
   "metadata": {},
   "outputs": [],
   "source": [
    "fitted_view1 = model.fitted_first_level_learners_[0]\n",
    "fitted_view2 = model.fitted_first_level_learners_[1]\n",
    "fitted_view3 = model.fitted_first_level_learners_[2]\n",
    "fitted_view4 = model.fitted_first_level_learners_[3]\n",
    "fitted_view5 = model.fitted_first_level_learners_[4]\n",
    "fitted_view6 = model.fitted_first_level_learners_[5]\n"
   ]
  },
  {
   "cell_type": "code",
   "execution_count": null,
   "id": "ef7e77b4",
   "metadata": {},
   "outputs": [],
   "source": [
    "predictions_v1 = fitted_view1.predict(X_test.values[:,ind_v1])\n",
    "print(np.sum(y_test == predictions_v1) / len(y_test))\n",
    "\n",
    "predictions_v2 = fitted_view2.predict(X_test.values[:,ind_v2])\n",
    "print(np.sum(y_test == predictions_v2) / len(y_test))\n",
    "\n",
    "predictions_v3 = fitted_view3.predict(X_test.values[:,ind_v3])\n",
    "print(np.sum(y_test == predictions_v3) / len(y_test))\n",
    "\n",
    "predictions_v4 = fitted_view4.predict(X_test.values[:,ind_v4])\n",
    "print(np.sum(y_test == predictions_v4) / len(y_test))\n",
    "\n",
    "predictions_v5 = fitted_view5.predict(X_test.values[:,ind_v5])\n",
    "print(np.sum(y_test == predictions_v5) / len(y_test))\n",
    "\n",
    "predictions_v6 = fitted_view6.predict(X_test.values[:,ind_v6])\n",
    "print(np.sum(y_test == predictions_v6) / len(y_test))"
   ]
  },
  {
   "cell_type": "code",
   "execution_count": null,
   "id": "6ed5a1d9",
   "metadata": {},
   "outputs": [],
   "source": [
    "# Confusion matrix 1.\n",
    "str_predictions = predictions_v1\n",
    "str_groundtruth = y_test\n",
    "cm = confusion_matrix(str_groundtruth, str_predictions)\n",
    "disp = ConfusionMatrixDisplay(confusion_matrix=cm, \n",
    "                              display_labels=np.unique(str_groundtruth))\n",
    "disp.plot(xticks_rotation = 'vertical', cmap=plt.cm.Blues)\n",
    "plt.title('Confusion Matrix View 1')\n",
    "plt.savefig(\"cm_1.pdf\", format=\"pdf\", bbox_inches=\"tight\")\n",
    "plt.show()\n",
    "\n",
    "# Confusion matrix 2.\n",
    "str_predictions = predictions_v2\n",
    "str_groundtruth = y_test\n",
    "cm = confusion_matrix(str_groundtruth, str_predictions)\n",
    "disp = ConfusionMatrixDisplay(confusion_matrix=cm, \n",
    "                              display_labels=np.unique(str_groundtruth))\n",
    "disp.plot(xticks_rotation = 'vertical', cmap=plt.cm.Blues)\n",
    "plt.title('Confusion Matrix View 2')\n",
    "plt.savefig(\"cm_2.pdf\", format=\"pdf\", bbox_inches=\"tight\")\n",
    "plt.show()\n",
    "\n",
    "# Confusion  matrix 3.\n",
    "str_predictions = predictions_v3\n",
    "str_groundtruth = y_test\n",
    "cm = confusion_matrix(str_groundtruth, str_predictions)\n",
    "disp = ConfusionMatrixDisplay(confusion_matrix=cm, \n",
    "                              display_labels=np.unique(str_groundtruth))\n",
    "disp.plot(xticks_rotation = 'vertical', cmap=plt.cm.Blues)\n",
    "plt.title('Confusion Matrix View 3')\n",
    "plt.savefig(\"cm_3.pdf\", format=\"pdf\", bbox_inches=\"tight\")\n",
    "plt.show()\n",
    "\n",
    "# Confusion  matrix 4.\n",
    "str_predictions = predictions_v4\n",
    "str_groundtruth = y_test\n",
    "cm = confusion_matrix(str_groundtruth, str_predictions)\n",
    "disp = ConfusionMatrixDisplay(confusion_matrix=cm, \n",
    "                              display_labels=np.unique(str_groundtruth))\n",
    "disp.plot(xticks_rotation = 'vertical', cmap=plt.cm.Blues)\n",
    "plt.title('Confusion Matrix View 4')\n",
    "plt.savefig(\"cm_4.pdf\", format=\"pdf\", bbox_inches=\"tight\")\n",
    "plt.show()\n",
    "\n",
    "# Confusion  matrix 5.\n",
    "str_predictions = predictions_v5\n",
    "str_groundtruth = y_test\n",
    "cm = confusion_matrix(str_groundtruth, str_predictions)\n",
    "disp = ConfusionMatrixDisplay(confusion_matrix=cm, \n",
    "                              display_labels=np.unique(str_groundtruth))\n",
    "disp.plot(xticks_rotation = 'vertical', cmap=plt.cm.Blues)\n",
    "plt.title('Confusion Matrix View 5')\n",
    "plt.savefig(\"cm_5.pdf\", format=\"pdf\", bbox_inches=\"tight\")\n",
    "plt.show()\n",
    "\n",
    "# Confusion  matrix 6.\n",
    "str_predictions = predictions_v6\n",
    "str_groundtruth = y_test\n",
    "cm = confusion_matrix(str_groundtruth, str_predictions)\n",
    "disp = ConfusionMatrixDisplay(confusion_matrix=cm, \n",
    "                              display_labels=np.unique(str_groundtruth))\n",
    "disp.plot(xticks_rotation = 'vertical', cmap=plt.cm.Blues)\n",
    "plt.title('Confusion Matrix View 6')\n",
    "plt.savefig(\"cm_6.pdf\", format=\"pdf\", bbox_inches=\"tight\")\n",
    "plt.show()"
   ]
  },
  {
   "cell_type": "markdown",
   "id": "1617fe6d",
   "metadata": {},
   "source": [
    "### Model with concatenated features\n",
    "\n",
    "The views' features can also be combined by concatenating them. That is, training a single model with all the views."
   ]
  },
  {
   "cell_type": "code",
   "execution_count": null,
   "id": "5563848c",
   "metadata": {},
   "outputs": [],
   "source": [
    "m_concat = RandomForestClassifier(n_estimators=50, random_state=123)\n",
    "m_concat.fit(X_train, y_train)"
   ]
  },
  {
   "cell_type": "code",
   "execution_count": null,
   "id": "ecb459cb",
   "metadata": {},
   "outputs": [],
   "source": [
    "predictions = m_concat.predict(X_test)\n",
    "print(np.sum(y_test == predictions) / len(y_test))"
   ]
  },
  {
   "cell_type": "markdown",
   "id": "bfd6770c",
   "metadata": {},
   "source": [
    "Here, we can see that multi-view stacking perfomred better (0.988), compared to just concatenating all views. "
   ]
  }
 ],
 "metadata": {
  "kernelspec": {
   "display_name": "Python 3 (ipykernel)",
   "language": "python",
   "name": "python3"
  },
  "language_info": {
   "codemirror_mode": {
    "name": "ipython",
    "version": 3
   },
   "file_extension": ".py",
   "mimetype": "text/x-python",
   "name": "python",
   "nbconvert_exporter": "python",
   "pygments_lexer": "ipython3",
   "version": "3.11.5"
  }
 },
 "nbformat": 4,
 "nbformat_minor": 5
}
